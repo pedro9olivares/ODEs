{
  "nbformat": 4,
  "nbformat_minor": 0,
  "metadata": {
    "colab": {
      "provenance": [],
      "toc_visible": true,
      "authorship_tag": "ABX9TyMUTmJSKzhmjV4an4snKSMH",
      "include_colab_link": true
    },
    "kernelspec": {
      "name": "python3",
      "display_name": "Python 3"
    },
    "language_info": {
      "name": "python"
    }
  },
  "cells": [
    {
      "cell_type": "markdown",
      "metadata": {
        "id": "view-in-github",
        "colab_type": "text"
      },
      "source": [
        "<a href=\"https://colab.research.google.com/github/pedro9olivares/ODEs/blob/main/Ecuaciones_Diferenciales_Ordinarias.ipynb\" target=\"_parent\"><img src=\"https://colab.research.google.com/assets/colab-badge.svg\" alt=\"Open In Colab\"/></a>"
      ]
    },
    {
      "cell_type": "code",
      "source": [
        "import numpy as np\n",
        "import pandas as pd \n",
        "import matplotlib.pyplot as plt "
      ],
      "metadata": {
        "id": "SArcfb91Oq6g"
      },
      "execution_count": null,
      "outputs": []
    },
    {
      "cell_type": "markdown",
      "source": [
        "# Ápendice\n"
      ],
      "metadata": {
        "id": "TmkthIjRpSsY"
      }
    },
    {
      "cell_type": "code",
      "source": [
        "# Método de Newton\n",
        "def newton(f, df, x0, tol, iteraciones_max=25):\n",
        "  resultados = [(0, x0)]\n",
        "  cont = 1\n",
        "  x = x0 - f(x0)/df(x0)\n",
        "  resultados.append((cont, x))\n",
        "  \n",
        "  while abs(x0 - x) > tol and cont < iteraciones_max:\n",
        "    x0 = x\n",
        "    x = x0 - f(x0)/df(x0)\n",
        "\n",
        "    cont += 1\n",
        "    resultados.append((cont, x))\n",
        "  return resultados,x"
      ],
      "metadata": {
        "id": "vQcUXVNStt7Z"
      },
      "execution_count": null,
      "outputs": []
    },
    {
      "cell_type": "code",
      "source": [
        "# Prueba del método de Newton (Example 1.11)\n",
        "f = lambda x: x**3 + x - 1\n",
        "df = lambda x: 3*x**2 + 1\n",
        "x0 = -0.7\n",
        "tol = 10**-9\n",
        "\n",
        "resultados, x = newton(f, df, x0, tol)\n",
        "tabla_resultados = pd.DataFrame(resultados, columns=['i','x_i'])\n",
        "\n",
        "tabla_resultados.style.hide_index()"
      ],
      "metadata": {
        "colab": {
          "base_uri": "https://localhost:8080/",
          "height": 300
        },
        "id": "1rkGNs8db7n7",
        "outputId": "907beb62-bd81-41b8-88f7-faf564d5766c"
      },
      "execution_count": null,
      "outputs": [
        {
          "output_type": "execute_result",
          "data": {
            "text/plain": [
              "<pandas.io.formats.style.Styler at 0x7fe5ef37b610>"
            ],
            "text/html": [
              "<style type=\"text/css\">\n",
              "</style>\n",
              "<table id=\"T_5fe89_\" class=\"dataframe\">\n",
              "  <thead>\n",
              "    <tr>\n",
              "      <th class=\"col_heading level0 col0\" >i</th>\n",
              "      <th class=\"col_heading level0 col1\" >x_i</th>\n",
              "    </tr>\n",
              "  </thead>\n",
              "  <tbody>\n",
              "    <tr>\n",
              "      <td id=\"T_5fe89_row0_col0\" class=\"data row0 col0\" >0</td>\n",
              "      <td id=\"T_5fe89_row0_col1\" class=\"data row0 col1\" >-0.700000</td>\n",
              "    </tr>\n",
              "    <tr>\n",
              "      <td id=\"T_5fe89_row1_col0\" class=\"data row1 col0\" >1</td>\n",
              "      <td id=\"T_5fe89_row1_col1\" class=\"data row1 col1\" >0.127126</td>\n",
              "    </tr>\n",
              "    <tr>\n",
              "      <td id=\"T_5fe89_row2_col0\" class=\"data row2 col0\" >2</td>\n",
              "      <td id=\"T_5fe89_row2_col1\" class=\"data row2 col1\" >0.957678</td>\n",
              "    </tr>\n",
              "    <tr>\n",
              "      <td id=\"T_5fe89_row3_col0\" class=\"data row3 col0\" >3</td>\n",
              "      <td id=\"T_5fe89_row3_col1\" class=\"data row3 col1\" >0.734828</td>\n",
              "    </tr>\n",
              "    <tr>\n",
              "      <td id=\"T_5fe89_row4_col0\" class=\"data row4 col0\" >4</td>\n",
              "      <td id=\"T_5fe89_row4_col1\" class=\"data row4 col1\" >0.684592</td>\n",
              "    </tr>\n",
              "    <tr>\n",
              "      <td id=\"T_5fe89_row5_col0\" class=\"data row5 col0\" >5</td>\n",
              "      <td id=\"T_5fe89_row5_col1\" class=\"data row5 col1\" >0.682332</td>\n",
              "    </tr>\n",
              "    <tr>\n",
              "      <td id=\"T_5fe89_row6_col0\" class=\"data row6 col0\" >6</td>\n",
              "      <td id=\"T_5fe89_row6_col1\" class=\"data row6 col1\" >0.682328</td>\n",
              "    </tr>\n",
              "    <tr>\n",
              "      <td id=\"T_5fe89_row7_col0\" class=\"data row7 col0\" >7</td>\n",
              "      <td id=\"T_5fe89_row7_col1\" class=\"data row7 col1\" >0.682328</td>\n",
              "    </tr>\n",
              "  </tbody>\n",
              "</table>\n"
            ]
          },
          "metadata": {},
          "execution_count": 4
        }
      ]
    },
    {
      "cell_type": "markdown",
      "source": [
        "# Método de Euler (explícito)"
      ],
      "metadata": {
        "id": "uuGJGUOcOYjh"
      }
    },
    {
      "cell_type": "markdown",
      "source": [
        "### Código "
      ],
      "metadata": {
        "id": "8W4FyRAbp8XB"
      }
    },
    {
      "cell_type": "code",
      "execution_count": null,
      "metadata": {
        "id": "nYfT8V0ZN6eU"
      },
      "outputs": [],
      "source": [
        "def euler_ex(flujo, intervalo, valor_inicial, num_pasos):\n",
        "  \"\"\"\n",
        "  \"\"\"\n",
        "  inicio = intervalo[0]\n",
        "  fin = intervalo[-1]\n",
        "  h  = (fin - inicio)/num_pasos\n",
        "\n",
        "  n = [0]\n",
        "  t = [inicio]\n",
        "  w = [valor_inicial]\n",
        "  \n",
        "  for i in range(num_pasos):\n",
        "    n.append(i + 1)\n",
        "    t.append(t[i] + h)\n",
        "    w.append(paso_euler(h, flujo, t[i], w[i]))\n",
        "\n",
        "  return n, t, w \n",
        "\n",
        "def paso_euler(h, flujo, t, y):\n",
        "  \"\"\"\n",
        "  paso_euler desc \n",
        "\n",
        "  :param h: desc\n",
        "  :param flujo: desc\n",
        "  ...\n",
        "\n",
        "  :return: des\n",
        "  \"\"\"\n",
        "  return y + h*flujo(t,y)\n"
      ]
    },
    {
      "cell_type": "markdown",
      "source": [
        "### Pruebas\n"
      ],
      "metadata": {
        "id": "Ue9EqK9dZw3-"
      }
    },
    {
      "cell_type": "markdown",
      "source": [
        "#### Ejemplo 6.1"
      ],
      "metadata": {
        "id": "NqCRfGBE-_TV"
      }
    },
    {
      "cell_type": "markdown",
      "source": [
        "\\begin{align}\n",
        "  \\begin{cases}\n",
        "    y' = ty + t^3 \\\\\n",
        "    y(0) = y_0 = 1 \\\\\n",
        "    t \\in  [0,1]\n",
        "  \\end{cases}\n",
        "\\end{align}"
      ],
      "metadata": {
        "id": "-UFV1Aivai87"
      }
    },
    {
      "cell_type": "code",
      "source": [
        "f = lambda t,y: t*y + t**3 \n",
        "y_0 = 1"
      ],
      "metadata": {
        "id": "HjPjUICRm_R0"
      },
      "execution_count": null,
      "outputs": []
    },
    {
      "cell_type": "code",
      "source": [
        "# Número de pasos n = 10, a y b denotan el inicio y fin del intervalo.\n",
        "num_pasos = 10\n",
        "a  = 0\n",
        "b  = 1\n",
        "\n",
        "h = (b - a) / num_pasos\n",
        "intervalo = np.arange(a, b + h, h)\n",
        "n, t, w = euler_ex(flujo=f, intervalo=intervalo, valor_inicial=y_0, num_pasos=num_pasos)\n",
        "tabla_resultados = pd.DataFrame(zip(n, t, w), columns=['paso','t_i','w_i'])\n",
        "\n",
        "fig, ax = plt.subplots(figsize=(7,5))\n",
        "ax.plot(t, w, label='Euler explícito')\n",
        "ax.set_xlabel('Tiempo')\n",
        "ax.set_title('Aproximación numérica al P.V.I.')\n",
        "ax.legend()\n",
        "\n",
        "tabla_resultados.style.hide_index()\n"
      ],
      "metadata": {
        "colab": {
          "base_uri": "https://localhost:8080/",
          "height": 727
        },
        "id": "VMWwlViAZuo6",
        "outputId": "c064c235-e703-425d-91b0-4fbd89575bdf"
      },
      "execution_count": null,
      "outputs": [
        {
          "output_type": "execute_result",
          "data": {
            "text/plain": [
              "<pandas.io.formats.style.Styler at 0x7fe5eefe7f10>"
            ],
            "text/html": [
              "<style type=\"text/css\">\n",
              "</style>\n",
              "<table id=\"T_97de7_\" class=\"dataframe\">\n",
              "  <thead>\n",
              "    <tr>\n",
              "      <th class=\"col_heading level0 col0\" >paso</th>\n",
              "      <th class=\"col_heading level0 col1\" >t_i</th>\n",
              "      <th class=\"col_heading level0 col2\" >w_i</th>\n",
              "    </tr>\n",
              "  </thead>\n",
              "  <tbody>\n",
              "    <tr>\n",
              "      <td id=\"T_97de7_row0_col0\" class=\"data row0 col0\" >0</td>\n",
              "      <td id=\"T_97de7_row0_col1\" class=\"data row0 col1\" >0.000000</td>\n",
              "      <td id=\"T_97de7_row0_col2\" class=\"data row0 col2\" >1.000000</td>\n",
              "    </tr>\n",
              "    <tr>\n",
              "      <td id=\"T_97de7_row1_col0\" class=\"data row1 col0\" >1</td>\n",
              "      <td id=\"T_97de7_row1_col1\" class=\"data row1 col1\" >0.100000</td>\n",
              "      <td id=\"T_97de7_row1_col2\" class=\"data row1 col2\" >1.000000</td>\n",
              "    </tr>\n",
              "    <tr>\n",
              "      <td id=\"T_97de7_row2_col0\" class=\"data row2 col0\" >2</td>\n",
              "      <td id=\"T_97de7_row2_col1\" class=\"data row2 col1\" >0.200000</td>\n",
              "      <td id=\"T_97de7_row2_col2\" class=\"data row2 col2\" >1.010100</td>\n",
              "    </tr>\n",
              "    <tr>\n",
              "      <td id=\"T_97de7_row3_col0\" class=\"data row3 col0\" >3</td>\n",
              "      <td id=\"T_97de7_row3_col1\" class=\"data row3 col1\" >0.300000</td>\n",
              "      <td id=\"T_97de7_row3_col2\" class=\"data row3 col2\" >1.031102</td>\n",
              "    </tr>\n",
              "    <tr>\n",
              "      <td id=\"T_97de7_row4_col0\" class=\"data row4 col0\" >4</td>\n",
              "      <td id=\"T_97de7_row4_col1\" class=\"data row4 col1\" >0.400000</td>\n",
              "      <td id=\"T_97de7_row4_col2\" class=\"data row4 col2\" >1.064735</td>\n",
              "    </tr>\n",
              "    <tr>\n",
              "      <td id=\"T_97de7_row5_col0\" class=\"data row5 col0\" >5</td>\n",
              "      <td id=\"T_97de7_row5_col1\" class=\"data row5 col1\" >0.500000</td>\n",
              "      <td id=\"T_97de7_row5_col2\" class=\"data row5 col2\" >1.113724</td>\n",
              "    </tr>\n",
              "    <tr>\n",
              "      <td id=\"T_97de7_row6_col0\" class=\"data row6 col0\" >6</td>\n",
              "      <td id=\"T_97de7_row6_col1\" class=\"data row6 col1\" >0.600000</td>\n",
              "      <td id=\"T_97de7_row6_col2\" class=\"data row6 col2\" >1.181911</td>\n",
              "    </tr>\n",
              "    <tr>\n",
              "      <td id=\"T_97de7_row7_col0\" class=\"data row7 col0\" >7</td>\n",
              "      <td id=\"T_97de7_row7_col1\" class=\"data row7 col1\" >0.700000</td>\n",
              "      <td id=\"T_97de7_row7_col2\" class=\"data row7 col2\" >1.274425</td>\n",
              "    </tr>\n",
              "    <tr>\n",
              "      <td id=\"T_97de7_row8_col0\" class=\"data row8 col0\" >8</td>\n",
              "      <td id=\"T_97de7_row8_col1\" class=\"data row8 col1\" >0.800000</td>\n",
              "      <td id=\"T_97de7_row8_col2\" class=\"data row8 col2\" >1.397935</td>\n",
              "    </tr>\n",
              "    <tr>\n",
              "      <td id=\"T_97de7_row9_col0\" class=\"data row9 col0\" >9</td>\n",
              "      <td id=\"T_97de7_row9_col1\" class=\"data row9 col1\" >0.900000</td>\n",
              "      <td id=\"T_97de7_row9_col2\" class=\"data row9 col2\" >1.560970</td>\n",
              "    </tr>\n",
              "    <tr>\n",
              "      <td id=\"T_97de7_row10_col0\" class=\"data row10 col0\" >10</td>\n",
              "      <td id=\"T_97de7_row10_col1\" class=\"data row10 col1\" >1.000000</td>\n",
              "      <td id=\"T_97de7_row10_col2\" class=\"data row10 col2\" >1.774357</td>\n",
              "    </tr>\n",
              "  </tbody>\n",
              "</table>\n"
            ]
          },
          "metadata": {},
          "execution_count": 7
        },
        {
          "output_type": "display_data",
          "data": {
            "text/plain": [
              "<Figure size 504x360 with 1 Axes>"
            ],
            "image/png": "[encoded data removed]"
          },
          "metadata": {
            "needs_background": "light"
          }
        }
      ]
    },
    {
      "cell_type": "markdown",
      "source": [
        "La solución general de la EDO es\n",
        "\n",
        "\\begin{align}\n",
        "    y(t) = (2 + y_0)e^{\\frac{t^2}{2}}-t^2-2 ,\n",
        "\\end{align}\n",
        "\n",
        "y por lo tanto la solución exacta al PVI es\n",
        "\n",
        "\\begin{align}\n",
        "    y(t) = 3e^{\\frac{t^2}{2}}-t^2-2,\n",
        "\\end{align}\n",
        "\n",
        "con lo que podemos comparar nuestra aproximación, variando en cada caso el número de pasos $n$, contra la solución exacta en $t=1$.\n",
        "\n"
      ],
      "metadata": {
        "id": "qfUHtUSJqzwJ"
      }
    },
    {
      "cell_type": "code",
      "source": [
        "y = lambda t: 3*np.exp((t**2)/2) - t**2 - 2"
      ],
      "metadata": {
        "id": "4G0VK6XXoZxq"
      },
      "execution_count": null,
      "outputs": []
    },
    {
      "cell_type": "code",
      "source": [
        "resultado_exacto = y(1)\n",
        "resultados_cada_paso = []\n",
        "h_cada_paso = []\n",
        "pasos = [5, 10, 20, 40, 80, 160, 320, 640]\n",
        "\n",
        "for n_ in pasos:\n",
        "  h = (b - a) / n_\n",
        "  intervalo = np.arange(a, b + h, h)\n",
        "  n, t, w = euler_ex(flujo=f, intervalo=intervalo, valor_inicial=y_0, num_pasos=n_)\n",
        "  resultados_cada_paso.append(w[-1])\n",
        "  h_cada_paso.append(h)\n",
        "\n",
        "tabla_resultados = pd.DataFrame(zip(pasos, h_cada_paso, resultados_cada_paso,), \n",
        "                                columns=['pasos n', 'tamaño del paso h','w(1)'])\n",
        "tabla_resultados['y(1)'] = resultado_exacto\n",
        "errores_globales = abs(tabla_resultados['y(1)'] - tabla_resultados['w(1)'])\n",
        "tabla_resultados['error global'] = errores_globales\n",
        "\n",
        "fig1, ax1 = plt.subplots(figsize=(7,5))\n",
        "ax1.plot(h_cada_paso, errores_globales, 'o')\n",
        "ax1.set_xlabel('tamaño del paso h')\n",
        "ax1.set_ylabel('error global')\n",
        "ax1.set_title('Error global en función de h evaluado en t = 1')\n",
        "\n",
        "fig2, ax2 = plt.subplots(figsize=(7,5))\n",
        "ax2.plot(h_cada_paso, errores_globales, 'o')\n",
        "ax2.set_xlabel('tamaño del paso h')\n",
        "ax2.set_ylabel('error global')\n",
        "ax2.set_xscale('log')\n",
        "ax2.set_yscale('log')\n",
        "ax2.set_title('Error global en función de h evaluado en t = 1 (escala log-log)')\n",
        "\n",
        "tabla_resultados.style.hide_index()"
      ],
      "metadata": {
        "colab": {
          "base_uri": "https://localhost:8080/",
          "height": 969
        },
        "id": "RFy0qdAxotvq",
        "outputId": "73160c7a-c5ff-41f5-e0c2-d125b97224d6"
      },
      "execution_count": null,
      "outputs": [
        {
          "output_type": "execute_result",
          "data": {
            "text/plain": [
              "<pandas.io.formats.style.Styler at 0x7fe5eea43a50>"
            ],
            "text/html": [
              "<style type=\"text/css\">\n",
              "</style>\n",
              "<table id=\"T_c8aa9_\" class=\"dataframe\">\n",
              "  <thead>\n",
              "    <tr>\n",
              "      <th class=\"col_heading level0 col0\" >pasos n</th>\n",
              "      <th class=\"col_heading level0 col1\" >tamaño del paso h</th>\n",
              "      <th class=\"col_heading level0 col2\" >w(1)</th>\n",
              "      <th class=\"col_heading level0 col3\" >y(1)</th>\n",
              "      <th class=\"col_heading level0 col4\" >error global</th>\n",
              "    </tr>\n",
              "  </thead>\n",
              "  <tbody>\n",
              "    <tr>\n",
              "      <td id=\"T_c8aa9_row0_col0\" class=\"data row0 col0\" >5</td>\n",
              "      <td id=\"T_c8aa9_row0_col1\" class=\"data row0 col1\" >0.200000</td>\n",
              "      <td id=\"T_c8aa9_row0_col2\" class=\"data row0 col2\" >1.630648</td>\n",
              "      <td id=\"T_c8aa9_row0_col3\" class=\"data row0 col3\" >1.946164</td>\n",
              "      <td id=\"T_c8aa9_row0_col4\" class=\"data row0 col4\" >0.315516</td>\n",
              "    </tr>\n",
              "    <tr>\n",
              "      <td id=\"T_c8aa9_row1_col0\" class=\"data row1 col0\" >10</td>\n",
              "      <td id=\"T_c8aa9_row1_col1\" class=\"data row1 col1\" >0.100000</td>\n",
              "      <td id=\"T_c8aa9_row1_col2\" class=\"data row1 col2\" >1.774357</td>\n",
              "      <td id=\"T_c8aa9_row1_col3\" class=\"data row1 col3\" >1.946164</td>\n",
              "      <td id=\"T_c8aa9_row1_col4\" class=\"data row1 col4\" >0.171807</td>\n",
              "    </tr>\n",
              "    <tr>\n",
              "      <td id=\"T_c8aa9_row2_col0\" class=\"data row2 col0\" >20</td>\n",
              "      <td id=\"T_c8aa9_row2_col1\" class=\"data row2 col1\" >0.050000</td>\n",
              "      <td id=\"T_c8aa9_row2_col2\" class=\"data row2 col2\" >1.856245</td>\n",
              "      <td id=\"T_c8aa9_row2_col3\" class=\"data row2 col3\" >1.946164</td>\n",
              "      <td id=\"T_c8aa9_row2_col4\" class=\"data row2 col4\" >0.089918</td>\n",
              "    </tr>\n",
              "    <tr>\n",
              "      <td id=\"T_c8aa9_row3_col0\" class=\"data row3 col0\" >40</td>\n",
              "      <td id=\"T_c8aa9_row3_col1\" class=\"data row3 col1\" >0.025000</td>\n",
              "      <td id=\"T_c8aa9_row3_col2\" class=\"data row3 col2\" >1.900127</td>\n",
              "      <td id=\"T_c8aa9_row3_col3\" class=\"data row3 col3\" >1.946164</td>\n",
              "      <td id=\"T_c8aa9_row3_col4\" class=\"data row3 col4\" >0.046037</td>\n",
              "    </tr>\n",
              "    <tr>\n",
              "      <td id=\"T_c8aa9_row4_col0\" class=\"data row4 col0\" >80</td>\n",
              "      <td id=\"T_c8aa9_row4_col1\" class=\"data row4 col1\" >0.012500</td>\n",
              "      <td id=\"T_c8aa9_row4_col2\" class=\"data row4 col2\" >1.922866</td>\n",
              "      <td id=\"T_c8aa9_row4_col3\" class=\"data row4 col3\" >1.946164</td>\n",
              "      <td id=\"T_c8aa9_row4_col4\" class=\"data row4 col4\" >0.023298</td>\n",
              "    </tr>\n",
              "    <tr>\n",
              "      <td id=\"T_c8aa9_row5_col0\" class=\"data row5 col0\" >160</td>\n",
              "      <td id=\"T_c8aa9_row5_col1\" class=\"data row5 col1\" >0.006250</td>\n",
              "      <td id=\"T_c8aa9_row5_col2\" class=\"data row5 col2\" >1.934444</td>\n",
              "      <td id=\"T_c8aa9_row5_col3\" class=\"data row5 col3\" >1.946164</td>\n",
              "      <td id=\"T_c8aa9_row5_col4\" class=\"data row5 col4\" >0.011720</td>\n",
              "    </tr>\n",
              "    <tr>\n",
              "      <td id=\"T_c8aa9_row6_col0\" class=\"data row6 col0\" >320</td>\n",
              "      <td id=\"T_c8aa9_row6_col1\" class=\"data row6 col1\" >0.003125</td>\n",
              "      <td id=\"T_c8aa9_row6_col2\" class=\"data row6 col2\" >1.940286</td>\n",
              "      <td id=\"T_c8aa9_row6_col3\" class=\"data row6 col3\" >1.946164</td>\n",
              "      <td id=\"T_c8aa9_row6_col4\" class=\"data row6 col4\" >0.005878</td>\n",
              "    </tr>\n",
              "    <tr>\n",
              "      <td id=\"T_c8aa9_row7_col0\" class=\"data row7 col0\" >640</td>\n",
              "      <td id=\"T_c8aa9_row7_col1\" class=\"data row7 col1\" >0.001563</td>\n",
              "      <td id=\"T_c8aa9_row7_col2\" class=\"data row7 col2\" >1.943220</td>\n",
              "      <td id=\"T_c8aa9_row7_col3\" class=\"data row7 col3\" >1.946164</td>\n",
              "      <td id=\"T_c8aa9_row7_col4\" class=\"data row7 col4\" >0.002944</td>\n",
              "    </tr>\n",
              "  </tbody>\n",
              "</table>\n"
            ]
          },
          "metadata": {},
          "execution_count": 9
        },
        {
          "output_type": "display_data",
          "data": {
            "text/plain": [
              "<Figure size 504x360 with 1 Axes>"
            ],
            "image/png": "[encoded data removed]"
          },
          "metadata": {
            "needs_background": "light"
          }
        },
        {
          "output_type": "display_data",
          "data": {
            "text/plain": [
              "<Figure size 504x360 with 1 Axes>"
            ],
            "image/png": "[encoded data removed]"
          },
          "metadata": {
            "needs_background": "light"
          }
        }
      ]
    },
    {
      "cell_type": "markdown",
      "source": [
        "Notar que en este ejemplo el error global en $t = 1$ tiene una pendiente de 1 en una escala log-log, por lo que el error global es proporcional al tamaño del paso $h$.\n",
        "\n"
      ],
      "metadata": {
        "id": "Dd11Hrzl93Li"
      }
    },
    {
      "cell_type": "markdown",
      "source": [
        "De hecho, el error de truncamiento local del método de Euler satisface \n",
        "\\begin{align}\n",
        "    e_i \\leq M\\frac{h^2}{2},\n",
        "\\end{align}\n",
        "donde M es una cota superior de $y''$ en el intervalo $[a,b]$ relevante (análisis derivado de la expansión en serie de Taylor).\n",
        "\n",
        "En este ejemplo particular, pasa que $y''(t) = (t^2+2)e^{\\frac{t^2}{2}} - 2$, cuyo valor absoluto está acotado por arriba en $[0,1]$ por $M=y''(1)=3\\sqrt{e}-2$. Por lo tanto, el error de truncamiento local satisface\n",
        "\\begin{align}\n",
        "    e_i \\leq (3\\sqrt{e}-2)\\frac{h^2}{2}\n",
        "\\end{align}"
      ],
      "metadata": {
        "id": "2IwG01Z7oYCY"
      }
    },
    {
      "cell_type": "markdown",
      "source": [
        "A su vez, el error de truncamiento global del método de Euler satisface\n",
        "\\begin{align}\n",
        "    g_i \\leq \\frac{Mh}{2L}(e^{L(t_i-a)}-1),\n",
        "\\end{align}\n",
        "donde L es la constante de Lipschitz del flujo, a es el inicio del intervalo y M como arriba (análisis derivado del análisis del error de truncamiento local en cada paso $i$).\n",
        "\n",
        "Por lo tanto, en este ejemplo particular\n",
        "\\begin{align}\n",
        "    g_i \\leq \\frac{Mh}{2L}e^L(1-0) = \\frac{(3\\sqrt{e}-2)}{2}eh \\approx 4.004h\n",
        "\\end{align}\n",
        "Es decir, el error global será a lo más 4 veces el tamaño del paso $h$, lo cual se puede verificar con nuestra tabla de errores para diferentes $h$ de arriba (en la cual los errores son alrededor del doble de $h$)."
      ],
      "metadata": {
        "id": "Ryyt0XhHqiQK"
      }
    },
    {
      "cell_type": "markdown",
      "source": [
        "A final de cuentas, el método de Euler resulta ser un método de orden $O(h)$, donde el orden del error de truncamiento local es de orden $O(h^2)$.\n",
        "\n"
      ],
      "metadata": {
        "id": "UFP18IkItCIn"
      }
    },
    {
      "cell_type": "code",
      "source": [
        "# Visualización final\n",
        "# Número de pasos n = 25, a y b denotan el inicio y fin del intervalo.\n",
        "num_pasos = 25\n",
        "a  = 0\n",
        "b  = 1\n",
        "\n",
        "h = (b - a) / num_pasos\n",
        "intervalo = np.arange(a, b + h, h)\n",
        "n, t, w = euler_ex(flujo=f, intervalo=intervalo, valor_inicial=y_0, num_pasos=num_pasos)\n",
        "\n",
        "y_t = []\n",
        "for t_ in intervalo:\n",
        "  y_t.append(y(t_))\n",
        "\n",
        "fig, ax = plt.subplots(figsize=(7,5))\n",
        "ax.plot(t, w, label='Euler explícito')\n",
        "ax.plot(t, y_t, label='Solución exacta')\n",
        "ax.set_xlabel('Tiempo')\n",
        "ax.set_title('Visualización final')\n",
        "ax.legend()"
      ],
      "metadata": {
        "colab": {
          "base_uri": "https://localhost:8080/",
          "height": 367
        },
        "id": "mkFjINsJ-0ir",
        "outputId": "6619d754-795e-4678-e115-d4ac12320ce6"
      },
      "execution_count": null,
      "outputs": [
        {
          "output_type": "execute_result",
          "data": {
            "text/plain": [
              "<matplotlib.legend.Legend at 0x7fe5ee8142d0>"
            ]
          },
          "metadata": {},
          "execution_count": 10
        },
        {
          "output_type": "display_data",
          "data": {
            "text/plain": [
              "<Figure size 504x360 with 1 Axes>"
            ],
            "image/png": "[encoded data removed]"
          },
          "metadata": {
            "needs_background": "light"
          }
        }
      ]
    },
    {
      "cell_type": "markdown",
      "source": [
        "#### ¿Por qué necesitaríamos otros métodos? (Ejemplo 6.9)"
      ],
      "metadata": {
        "id": "W2OICU1ptcXk"
      }
    },
    {
      "cell_type": "markdown",
      "source": [
        "\\begin{align}\n",
        "  \\begin{cases}\n",
        "    y' = -4t^3y^2 \\\\\n",
        "    y(-10) = y_0 = 1/10001 \\\\\n",
        "    t \\in  [-10,0]\n",
        "  \\end{cases}\n",
        "\\end{align}"
      ],
      "metadata": {
        "id": "-YOMf776tgU1"
      }
    },
    {
      "cell_type": "code",
      "source": [
        "f = lambda t,y: -4 * t**3 * y**2 \n",
        "y_0 = 1/10001\n",
        "a = -10\n",
        "b = 0"
      ],
      "metadata": {
        "id": "l4dERbZpt-Qq"
      },
      "execution_count": null,
      "outputs": []
    },
    {
      "cell_type": "code",
      "source": [
        "# Solución exacta a la EDO\n",
        "y = lambda t: 1 / (t**4 + 1)"
      ],
      "metadata": {
        "id": "Woxbb6iEuSXb"
      },
      "execution_count": null,
      "outputs": []
    },
    {
      "cell_type": "markdown",
      "source": [
        "¿Qué tan bueno es el método de Euler para aproximar la solución en $t=0$?"
      ],
      "metadata": {
        "id": "Ynsuw4DuufLQ"
      }
    },
    {
      "cell_type": "code",
      "source": [
        "%%time\n",
        "pasos = [500, 1000, 10000, 100000, 1000000]\n",
        "\n",
        "fig1, ax1 = plt.subplots(figsize=(7,5))\n",
        "ax1.set_title('Comparación de varias aproximaciones usando el método de Euler explícito')\n",
        "for n_ in pasos:\n",
        "  h = (b - a) / n_\n",
        "  intervalo = np.arange(a, b + h, h)\n",
        "  n, t, w = euler_ex(flujo=f, intervalo=intervalo, valor_inicial=y_0, num_pasos=n_)\n",
        "\n",
        "  ax1.plot(t, w, label=f'Método de Euler, h={h}')\n",
        "  ax1.set_xlabel('Tiempo')\n",
        "  ax1.set_ylabel('y')\n",
        "\n",
        "y_t = []\n",
        "t = []\n",
        "for t_ in np.arange(-10,0.1,.1):\n",
        "  y_t.append(y(t_))\n",
        "  t.append(t_)\n",
        "ax1.plot(t, y_t, label=\"Solución exacta\")\n",
        "\n",
        "ax1.legend() "
      ],
      "metadata": {
        "colab": {
          "base_uri": "https://localhost:8080/",
          "height": 402
        },
        "id": "GxNW8oxuuo5Z",
        "outputId": "8d74a5e9-507d-47e1-bf8b-a4625dec8944"
      },
      "execution_count": null,
      "outputs": [
        {
          "output_type": "stream",
          "name": "stdout",
          "text": [
            "CPU times: user 1.88 s, sys: 84.9 ms, total: 1.96 s\n",
            "Wall time: 1.97 s\n"
          ]
        },
        {
          "output_type": "execute_result",
          "data": {
            "text/plain": [
              "<matplotlib.legend.Legend at 0x7fe5ee837d90>"
            ]
          },
          "metadata": {},
          "execution_count": 13
        },
        {
          "output_type": "display_data",
          "data": {
            "text/plain": [
              "<Figure size 504x360 with 1 Axes>"
            ],
            "image/png": "[encoded data removed]"
          },
          "metadata": {
            "needs_background": "light"
          }
        }
      ]
    },
    {
      "cell_type": "markdown",
      "source": [
        "Para este ejemplo \"inocente\", incluso una aproximación que usa un millón de pasos para llegar a $t=0$ se ve incorrecta. También resulta ser bastante tardada (alrededor de 2 segundos)."
      ],
      "metadata": {
        "id": "KDMTROyKzhic"
      }
    },
    {
      "cell_type": "markdown",
      "source": [
        "De este ejemplo nos damos cuenta que se necesitan métodos más precisos para lograr una aproximación más precisa usando un tiempo de cómputo razonable."
      ],
      "metadata": {
        "id": "qnyQPdI-0BPb"
      }
    },
    {
      "cell_type": "markdown",
      "source": [
        "# Método del trapecio (explícito)"
      ],
      "metadata": {
        "id": "0ur9_RxYGLJA"
      }
    },
    {
      "cell_type": "markdown",
      "source": [
        "### Código "
      ],
      "metadata": {
        "id": "BR-9zFhp1t4F"
      }
    },
    {
      "cell_type": "code",
      "source": [
        "def trapecio_ex(flujo, intervalo, valor_inicial, num_pasos):\n",
        "  \"\"\"\n",
        "  \"\"\"\n",
        "  inicio = intervalo[0]\n",
        "  fin = intervalo[-1]\n",
        "  h  = (fin - inicio)/num_pasos\n",
        "\n",
        "  n = [0]\n",
        "  t = [inicio]\n",
        "  w = [valor_inicial]\n",
        "  \n",
        "  for i in range(num_pasos):\n",
        "    n.append(i + 1)\n",
        "    t.append(t[i] + h)\n",
        "    w.append(w[i] + (h/2)*(flujo(t[i],w[i]) + flujo(t[i] + h, paso_euler(h, flujo, t[i], w[i]))))\n",
        "\n",
        "  return n, t, w "
      ],
      "metadata": {
        "id": "whTWUpv-GVw7"
      },
      "execution_count": null,
      "outputs": []
    },
    {
      "cell_type": "markdown",
      "source": [
        "### Pruebas"
      ],
      "metadata": {
        "id": "RhbwRgOD1vZL"
      }
    },
    {
      "cell_type": "markdown",
      "source": [
        "#### Ejemplo 6.10"
      ],
      "metadata": {
        "id": "sYMyThKFGRUi"
      }
    },
    {
      "cell_type": "markdown",
      "source": [
        "\\begin{align}\n",
        "  \\begin{cases}\n",
        "    y' = ty + t^3 \\\\\n",
        "    y(0) = y_0 = 1 \\\\\n",
        "    t \\in  [0,1]\n",
        "  \\end{cases}\n",
        "\\end{align}"
      ],
      "metadata": {
        "id": "ZPs09mr8GYIe"
      }
    },
    {
      "cell_type": "code",
      "source": [
        "f = lambda t,y: t*y + t**3 \n",
        "y_0 = 1"
      ],
      "metadata": {
        "id": "BNckgkIVGSq2"
      },
      "execution_count": null,
      "outputs": []
    },
    {
      "cell_type": "code",
      "source": [
        "# Solución exacta\n",
        "y = lambda t: 3*np.exp((t**2)/2) - t**2 - 2"
      ],
      "metadata": {
        "id": "BOs3mBBJG9JH"
      },
      "execution_count": null,
      "outputs": []
    },
    {
      "cell_type": "code",
      "source": [
        "# Número de pasos n = 10, a y b denotan el inicio y fin del intervalo.\n",
        "num_pasos = 10\n",
        "a  = 0\n",
        "b  = 1\n",
        "\n",
        "h = (b - a) / num_pasos\n",
        "intervalo = np.arange(a, b + h, h)\n",
        "n, t, w = trapecio_ex(flujo=f, intervalo=intervalo, valor_inicial=y_0, num_pasos=num_pasos)\n",
        "\n",
        "y_t = []\n",
        "for t_ in intervalo:\n",
        "  y_t.append(y(t_))\n",
        "\n",
        "tabla_resultados = pd.DataFrame(zip(n, t, w, y_t), columns=['paso','t_i','w_i', 'y_i'])\n",
        "errores_locales = abs(tabla_resultados['y_i'] - tabla_resultados['w_i'])\n",
        "tabla_resultados['e_i (error local)'] = errores_locales\n",
        "\n",
        "fig, ax = plt.subplots(figsize=(7,5))\n",
        "ax.plot(t, w, label='Trapecio explícito')\n",
        "ax.plot(t, y_t, label='Solución exacta')\n",
        "ax.set_xlabel('Tiempo')\n",
        "ax.set_title('Aproximación numérica al P.V.I.')\n",
        "ax.legend()\n",
        "\n",
        "tabla_resultados.style.hide_index()\n"
      ],
      "metadata": {
        "colab": {
          "base_uri": "https://localhost:8080/",
          "height": 727
        },
        "id": "F9BLacsCGklS",
        "outputId": "3cae5b64-692b-4968-de9c-ad2ac0433626"
      },
      "execution_count": null,
      "outputs": [
        {
          "output_type": "execute_result",
          "data": {
            "text/plain": [
              "<pandas.io.formats.style.Styler at 0x7fe5edd5d210>"
            ],
            "text/html": [
              "<style type=\"text/css\">\n",
              "</style>\n",
              "<table id=\"T_b2b11_\" class=\"dataframe\">\n",
              "  <thead>\n",
              "    <tr>\n",
              "      <th class=\"col_heading level0 col0\" >paso</th>\n",
              "      <th class=\"col_heading level0 col1\" >t_i</th>\n",
              "      <th class=\"col_heading level0 col2\" >w_i</th>\n",
              "      <th class=\"col_heading level0 col3\" >y_i</th>\n",
              "      <th class=\"col_heading level0 col4\" >e_i (error local)</th>\n",
              "    </tr>\n",
              "  </thead>\n",
              "  <tbody>\n",
              "    <tr>\n",
              "      <td id=\"T_b2b11_row0_col0\" class=\"data row0 col0\" >0</td>\n",
              "      <td id=\"T_b2b11_row0_col1\" class=\"data row0 col1\" >0.000000</td>\n",
              "      <td id=\"T_b2b11_row0_col2\" class=\"data row0 col2\" >1.000000</td>\n",
              "      <td id=\"T_b2b11_row0_col3\" class=\"data row0 col3\" >1.000000</td>\n",
              "      <td id=\"T_b2b11_row0_col4\" class=\"data row0 col4\" >0.000000</td>\n",
              "    </tr>\n",
              "    <tr>\n",
              "      <td id=\"T_b2b11_row1_col0\" class=\"data row1 col0\" >1</td>\n",
              "      <td id=\"T_b2b11_row1_col1\" class=\"data row1 col1\" >0.100000</td>\n",
              "      <td id=\"T_b2b11_row1_col2\" class=\"data row1 col2\" >1.005050</td>\n",
              "      <td id=\"T_b2b11_row1_col3\" class=\"data row1 col3\" >1.005038</td>\n",
              "      <td id=\"T_b2b11_row1_col4\" class=\"data row1 col4\" >0.000012</td>\n",
              "    </tr>\n",
              "    <tr>\n",
              "      <td id=\"T_b2b11_row2_col0\" class=\"data row2 col0\" >2</td>\n",
              "      <td id=\"T_b2b11_row2_col1\" class=\"data row2 col1\" >0.200000</td>\n",
              "      <td id=\"T_b2b11_row2_col2\" class=\"data row2 col2\" >1.020677</td>\n",
              "      <td id=\"T_b2b11_row2_col3\" class=\"data row2 col3\" >1.020604</td>\n",
              "      <td id=\"T_b2b11_row2_col4\" class=\"data row2 col4\" >0.000073</td>\n",
              "    </tr>\n",
              "    <tr>\n",
              "      <td id=\"T_b2b11_row3_col0\" class=\"data row3 col0\" >3</td>\n",
              "      <td id=\"T_b2b11_row3_col1\" class=\"data row3 col1\" >0.300000</td>\n",
              "      <td id=\"T_b2b11_row3_col2\" class=\"data row3 col2\" >1.048262</td>\n",
              "      <td id=\"T_b2b11_row3_col3\" class=\"data row3 col3\" >1.048084</td>\n",
              "      <td id=\"T_b2b11_row3_col4\" class=\"data row3 col4\" >0.000179</td>\n",
              "    </tr>\n",
              "    <tr>\n",
              "      <td id=\"T_b2b11_row4_col0\" class=\"data row4 col0\" >4</td>\n",
              "      <td id=\"T_b2b11_row4_col1\" class=\"data row4 col1\" >0.400000</td>\n",
              "      <td id=\"T_b2b11_row4_col2\" class=\"data row4 col2\" >1.090185</td>\n",
              "      <td id=\"T_b2b11_row4_col3\" class=\"data row4 col3\" >1.089861</td>\n",
              "      <td id=\"T_b2b11_row4_col4\" class=\"data row4 col4\" >0.000323</td>\n",
              "    </tr>\n",
              "    <tr>\n",
              "      <td id=\"T_b2b11_row5_col0\" class=\"data row5 col0\" >5</td>\n",
              "      <td id=\"T_b2b11_row5_col1\" class=\"data row5 col1\" >0.500000</td>\n",
              "      <td id=\"T_b2b11_row5_col2\" class=\"data row5 col2\" >1.149943</td>\n",
              "      <td id=\"T_b2b11_row5_col3\" class=\"data row5 col3\" >1.149445</td>\n",
              "      <td id=\"T_b2b11_row5_col4\" class=\"data row5 col4\" >0.000498</td>\n",
              "    </tr>\n",
              "    <tr>\n",
              "      <td id=\"T_b2b11_row6_col0\" class=\"data row6 col0\" >6</td>\n",
              "      <td id=\"T_b2b11_row6_col1\" class=\"data row6 col1\" >0.600000</td>\n",
              "      <td id=\"T_b2b11_row6_col2\" class=\"data row6 col2\" >1.232340</td>\n",
              "      <td id=\"T_b2b11_row6_col3\" class=\"data row6 col3\" >1.231652</td>\n",
              "      <td id=\"T_b2b11_row6_col4\" class=\"data row6 col4\" >0.000688</td>\n",
              "    </tr>\n",
              "    <tr>\n",
              "      <td id=\"T_b2b11_row7_col0\" class=\"data row7 col0\" >7</td>\n",
              "      <td id=\"T_b2b11_row7_col1\" class=\"data row7 col1\" >0.700000</td>\n",
              "      <td id=\"T_b2b11_row7_col2\" class=\"data row7 col2\" >1.343736</td>\n",
              "      <td id=\"T_b2b11_row7_col3\" class=\"data row7 col3\" >1.342864</td>\n",
              "      <td id=\"T_b2b11_row7_col4\" class=\"data row7 col4\" >0.000872</td>\n",
              "    </tr>\n",
              "    <tr>\n",
              "      <td id=\"T_b2b11_row8_col0\" class=\"data row8 col0\" >8</td>\n",
              "      <td id=\"T_b2b11_row8_col1\" class=\"data row8 col1\" >0.800000</td>\n",
              "      <td id=\"T_b2b11_row8_col2\" class=\"data row8 col2\" >1.492400</td>\n",
              "      <td id=\"T_b2b11_row8_col3\" class=\"data row8 col3\" >1.491383</td>\n",
              "      <td id=\"T_b2b11_row8_col4\" class=\"data row8 col4\" >0.001017</td>\n",
              "    </tr>\n",
              "    <tr>\n",
              "      <td id=\"T_b2b11_row9_col0\" class=\"data row9 col0\" >9</td>\n",
              "      <td id=\"T_b2b11_row9_col1\" class=\"data row9 col1\" >0.900000</td>\n",
              "      <td id=\"T_b2b11_row9_col2\" class=\"data row9 col2\" >1.688981</td>\n",
              "      <td id=\"T_b2b11_row9_col3\" class=\"data row9 col3\" >1.687908</td>\n",
              "      <td id=\"T_b2b11_row9_col4\" class=\"data row9 col4\" >0.001074</td>\n",
              "    </tr>\n",
              "    <tr>\n",
              "      <td id=\"T_b2b11_row10_col0\" class=\"data row10 col0\" >10</td>\n",
              "      <td id=\"T_b2b11_row10_col1\" class=\"data row10 col1\" >1.000000</td>\n",
              "      <td id=\"T_b2b11_row10_col2\" class=\"data row10 col2\" >1.947130</td>\n",
              "      <td id=\"T_b2b11_row10_col3\" class=\"data row10 col3\" >1.946164</td>\n",
              "      <td id=\"T_b2b11_row10_col4\" class=\"data row10 col4\" >0.000966</td>\n",
              "    </tr>\n",
              "  </tbody>\n",
              "</table>\n"
            ]
          },
          "metadata": {},
          "execution_count": 17
        },
        {
          "output_type": "display_data",
          "data": {
            "text/plain": [
              "<Figure size 504x360 with 1 Axes>"
            ],
            "image/png": "[encoded data removed]"
          },
          "metadata": {
            "needs_background": "light"
          }
        }
      ]
    },
    {
      "cell_type": "markdown",
      "source": [
        "Se ve que la mejora comparando contra el método de Euler es bastante. Para tener una idea más clara sobre qué tanto mejoramos, derivamos el error de truncamiento local desde series de Taylor para obtener que\n",
        "\n",
        "\\begin{align}\n",
        "    e_i \\leq M\\frac{h^3}{6},\n",
        "\\end{align}\n",
        "\n",
        "donde M es una cota superior de $y'''$ en el intervalo $[a,b]$ relevante.\n",
        "\n",
        "En este ejemplo particular, pasa que $y'''(t) = e^{\\frac{t^2}{2}}\\cdot t \\cdot (t^2+4)$, cuyo valor absoluto está acotado por arriba en $[0,1]$ por $M=y'''(1)=5\\sqrt{e}$. Por lo tanto, el error de truncamiento local satisface\n",
        "\\begin{align}\n",
        "    e_i \\leq (5\\sqrt{e})\\frac{h^3}{6}\n",
        "\\end{align}\n"
      ],
      "metadata": {
        "id": "nn9QcIylQ844"
      }
    },
    {
      "cell_type": "markdown",
      "source": [
        "A su vez, el error de truncamiento global del método del trapecio satisface ser de orden $O(h^2)$."
      ],
      "metadata": {
        "id": "aF-ZpPVITWvf"
      }
    },
    {
      "cell_type": "markdown",
      "source": [
        "A final de cuentas, el método del trapecio resulta ser un método de orden $O(h^2)$, donde el orden del error de truncamiento local es de orden $O(h^3)$.\n"
      ],
      "metadata": {
        "id": "cm4KbVnrXqGw"
      }
    },
    {
      "cell_type": "markdown",
      "source": [
        "#### Ejemplo 6.11"
      ],
      "metadata": {
        "id": "wii9Py3DYYXj"
      }
    },
    {
      "cell_type": "markdown",
      "source": [
        "Apliquemos ahora el método del trapecio al P.V.I. donde el método de Euler no era bueno."
      ],
      "metadata": {
        "id": "w9Pl_9E1Yda3"
      }
    },
    {
      "cell_type": "markdown",
      "source": [
        "\\begin{align}\n",
        "  \\begin{cases}\n",
        "    y' = -4t^3y^2 \\\\\n",
        "    y(-10) = y_0 = 1/10001 \\\\\n",
        "    t \\in  [-10,0]\n",
        "  \\end{cases}\n",
        "\\end{align}"
      ],
      "metadata": {
        "id": "UWsbG1PPYsFm"
      }
    },
    {
      "cell_type": "code",
      "source": [
        "f = lambda t,y: -4 * t**3 * y**2 \n",
        "y_0 = 1/10001\n",
        "a = -10\n",
        "b = 0"
      ],
      "metadata": {
        "id": "jAohskYvYsxA"
      },
      "execution_count": null,
      "outputs": []
    },
    {
      "cell_type": "code",
      "source": [
        "# Solución exacta a la EDO\n",
        "y = lambda t: 1 / (t**4 + 1)"
      ],
      "metadata": {
        "id": "Vczrt6BmYyn-"
      },
      "execution_count": null,
      "outputs": []
    },
    {
      "cell_type": "code",
      "source": [
        "%%time\n",
        "pasos = [500, 1000, 10000]\n",
        "\n",
        "fig1, ax1 = plt.subplots(figsize=(7,5))\n",
        "ax1.set_title('Comparación de varias aproximaciones usando el método del trapecio explícito')\n",
        "for n_ in pasos:\n",
        "  h = (b - a) / n_\n",
        "  intervalo = np.arange(a, b + h, h)\n",
        "  n, t, w = trapecio_ex(flujo=f, intervalo=intervalo, valor_inicial=y_0, num_pasos=n_)\n",
        "\n",
        "  ax1.plot(t, w, label=f'Método del trapecio, h={h}')\n",
        "  ax1.set_xlabel('Tiempo')\n",
        "  ax1.set_ylabel('y')\n",
        "\n",
        "y_t = []\n",
        "t = []\n",
        "for t_ in np.arange(-10,0.1,.1):\n",
        "  y_t.append(y(t_))\n",
        "  t.append(t_)\n",
        "ax1.plot(t, y_t, label=\"Solución exacta\")\n",
        "\n",
        "ax1.legend() "
      ],
      "metadata": {
        "colab": {
          "base_uri": "https://localhost:8080/",
          "height": 402
        },
        "id": "bsgb8MBhZdPS",
        "outputId": "191f477d-d826-4f0c-f7c4-e4300189b817"
      },
      "execution_count": null,
      "outputs": [
        {
          "output_type": "stream",
          "name": "stdout",
          "text": [
            "CPU times: user 69.9 ms, sys: 0 ns, total: 69.9 ms\n",
            "Wall time: 70.8 ms\n"
          ]
        },
        {
          "output_type": "execute_result",
          "data": {
            "text/plain": [
              "<matplotlib.legend.Legend at 0x7fe5ee807b90>"
            ]
          },
          "metadata": {},
          "execution_count": 20
        },
        {
          "output_type": "display_data",
          "data": {
            "text/plain": [
              "<Figure size 504x360 with 1 Axes>"
            ],
            "image/png": "[encoded data removed]"
          },
          "metadata": {
            "needs_background": "light"
          }
        }
      ]
    },
    {
      "cell_type": "markdown",
      "source": [
        "La aproximación en $t=0$ se logra con un error de alrededor $.0015$ usando un tamaño de paso $h = 10^{-3}$. Esto es ya mejor que el método de Euler con tamaño de paso $h = 10^{-5}$. Usar el método del trapecio con tamaño de paso $h = 10^{-5}$ da un error en el orden de solamente $10^{-7}$."
      ],
      "metadata": {
        "id": "fCzzz258aANQ"
      }
    },
    {
      "cell_type": "markdown",
      "source": [
        "(Tener un método de orden mayor es muy útil para $h$s pequeñas)."
      ],
      "metadata": {
        "id": "HZApcA0qbReZ"
      }
    },
    {
      "cell_type": "markdown",
      "source": [
        "# Sistemas de ecuaciones diferenciales ordinarias"
      ],
      "metadata": {
        "id": "QtH181XHGWXG"
      }
    },
    {
      "cell_type": "markdown",
      "source": [
        "### Código "
      ],
      "metadata": {
        "id": "XrxOAt7NeCNO"
      }
    },
    {
      "cell_type": "code",
      "source": [
        "def sistema_de_edos(flujos, intervalo, condiciones_iniciales, num_pasos, metodo='euler explícito'):\n",
        "  metodos_disponibles = ['euler explícito', 'trapecio explícito']\n",
        "  if metodo not in metodos_disponibles:\n",
        "    print('Por favor elige un método disponible para tu sistema de EDOs.')\n",
        "    print('Los métodos disponibles son:')\n",
        "    for metodo in metodos_disponibles:\n",
        "      print('\\t',metodo)\n",
        "  \n",
        "  inicio = intervalo[0]\n",
        "  fin = intervalo[-1]\n",
        "  h  = (fin - inicio)/num_pasos\n",
        "  n = [0]\n",
        "  t = [inicio]\n",
        "  w = [condiciones_iniciales]\n",
        "  dim = len(condiciones_iniciales)\n",
        "\n",
        "  if metodo == 'euler explícito':\n",
        "    print('Seleccionaste el método de euler explícito.')\n",
        "    for i in range(num_pasos):\n",
        "      n.append(i + 1)\n",
        "      t.append(t[i] + h)\n",
        "      vector_resultado = []\n",
        "      for m in range(dim):\n",
        "        vector_resultado.append(paso_euler_con_flujo_bivariado(h, flujos[m], t[i], w[i][m], w[i][0], w[i][1]))\n",
        "      w.append(vector_resultado)\n",
        "\n",
        "  elif metodo == 'trapecio explícito':\n",
        "    print('Seleccionaste el método del trapecio explícito.')\n",
        "    print('Este método aún no se implementa.')\n",
        "\n",
        "  return n, t, w \n",
        "\n",
        "def paso_euler_con_flujo_bivariado(h, flujo, t, w, y_1, y_2):\n",
        "  return w + h*flujo(t,y_1,y_2)\n",
        "\n",
        "def eueler_ex_sis_lin(A, valores_inciales, num_pasos, tiempo_final):\n",
        "  dim = len(valores_inciales) # dimensión del espacio, i.e., R^n\n",
        "  h = tiempo_final/num_pasos\n",
        "  B = np.eye(dim) + h*A\n",
        "  sol = np.empty([dim, num_pasos+1]) # las columnas son cada vector solución en el tiempo i\n",
        "  sol[:, 0] = valores_inciales\n",
        "  for k in range(num_pasos):\n",
        "    sol[:, k+1] = B@sol[:, k]\n",
        "  return sol"
      ],
      "metadata": {
        "id": "EK7dAjJ-GayM"
      },
      "execution_count": null,
      "outputs": []
    },
    {
      "cell_type": "markdown",
      "source": [
        "### Pruebas"
      ],
      "metadata": {
        "id": "7I-ti82deDuH"
      }
    },
    {
      "cell_type": "markdown",
      "source": [
        "#### Ejemplo 6.13"
      ],
      "metadata": {
        "id": "c61-Ccpvf2gg"
      }
    },
    {
      "cell_type": "markdown",
      "source": [
        "\\begin{align}\n",
        "  \\begin{cases}\n",
        "    y'_1 = y^2_2 - 2y_1 \\\\\n",
        "    y'_2 = y_1 - y_2 - ty^2_2 \\\\\n",
        "  \\end{cases}\n",
        "\\end{align}\n",
        "\n",
        "con condiciones iniciales $y_1(0) = 0$, $y_2(0) = 1$."
      ],
      "metadata": {
        "id": "41m2ConCf-Zp"
      }
    },
    {
      "cell_type": "markdown",
      "source": [
        "La solución de este sistema es la función \n",
        "\n",
        "\\begin{align}\n",
        "    y_1(t) = te^{-2t} \\\\\n",
        "    y_2(t) = e^{-t}\\\\\n",
        "\\end{align}"
      ],
      "metadata": {
        "id": "307vv4GogtdQ"
      }
    },
    {
      "cell_type": "code",
      "source": [
        "flujo1 = lambda t, y_1, y_2: y_2**2 - 2*y_1 \n",
        "y_1_ci = 0\n",
        "\n",
        "flujo2 = lambda t, y_1, y_2: y_1 - y_2 - t*y_2**2\n",
        "y_2_ci = 1\n",
        "\n",
        "flujos = [flujo1, flujo2]\n",
        "condiciones_iniciales = [y_1_ci, y_2_ci]"
      ],
      "metadata": {
        "id": "8slkk6Yuhjaa"
      },
      "execution_count": null,
      "outputs": []
    },
    {
      "cell_type": "code",
      "source": [
        "# Solución exacta a la EDO\n",
        "y1 = lambda t: t*np.exp(-2*t)\n",
        "y2 = lambda t: np.exp(-t)"
      ],
      "metadata": {
        "id": "LJryLDM0iXW2"
      },
      "execution_count": null,
      "outputs": []
    },
    {
      "cell_type": "code",
      "source": [
        "# Método de Euler para resolver el sistema\n",
        "# Visualización final\n",
        "# Número de pasos n = 10, a y b denotan el inicio y fin del intervalo.\n",
        "num_pasos = 10\n",
        "a  = 0\n",
        "b  = 1\n",
        "\n",
        "h = (b - a) / num_pasos\n",
        "intervalo = np.arange(a, b + h, h)\n",
        "n, t, w = sistema_de_edos(flujos, intervalo, condiciones_iniciales, num_pasos, 'euler explícito')\n",
        "\n",
        "y_1 = []\n",
        "y_2 = []\n",
        "for t_ in intervalo:\n",
        "  y_1.append(y1(t_))\n",
        "  y_2.append(y2(t_))\n",
        "\n",
        "fig, ax = plt.subplots(figsize=(7,5))\n",
        "w_1 = []\n",
        "w_2 = []\n",
        "for w_ in w:\n",
        "  w_1.append(w_[0])\n",
        "  w_2.append(w_[1])\n",
        "ax.plot(t, y_1, 'b', label='y_1(t)')\n",
        "ax.plot(t, y_2, 'b', label='y_2(t)')\n",
        "ax.plot(t, w_2, 'ko', label='w_2(t)')\n",
        "ax.plot(t, w_1, 'ko', label='w_1(t)')\n",
        "ax.set_xlabel('Tiempo')\n",
        "ax.set_ylabel('y')\n",
        "ax.set_title('Aproximación al sistema de ecuaciones diferenciales')\n",
        "ax.legend()"
      ],
      "metadata": {
        "id": "X6H7ysQ3eFVN",
        "colab": {
          "base_uri": "https://localhost:8080/",
          "height": 385
        },
        "outputId": "e05c74f2-2b38-40a3-ff26-c1f8f8d2ccc7"
      },
      "execution_count": null,
      "outputs": [
        {
          "output_type": "stream",
          "name": "stdout",
          "text": [
            "Seleccionaste el método de euler explícito.\n"
          ]
        },
        {
          "output_type": "execute_result",
          "data": {
            "text/plain": [
              "<matplotlib.legend.Legend at 0x7fe5ee6e4910>"
            ]
          },
          "metadata": {},
          "execution_count": 24
        },
        {
          "output_type": "display_data",
          "data": {
            "text/plain": [
              "<Figure size 504x360 with 1 Axes>"
            ],
            "image/png": "[encoded data removed]"
          },
          "metadata": {
            "needs_background": "light"
          }
        }
      ]
    },
    {
      "cell_type": "markdown",
      "source": [
        "#### Sección 6.3.2: el péndulo"
      ],
      "metadata": {
        "id": "nvthYUgsWBrr"
      }
    },
    {
      "cell_type": "markdown",
      "source": [
        "##### Péndulo ideal "
      ],
      "metadata": {
        "id": "Mr5SorNqWLds"
      }
    },
    {
      "cell_type": "code",
      "source": [],
      "metadata": {
        "id": "zmXOGFd-WH7Y"
      },
      "execution_count": null,
      "outputs": []
    },
    {
      "cell_type": "markdown",
      "source": [
        "##### Péndulo amortigüado"
      ],
      "metadata": {
        "id": "CF4XWfYCWWud"
      }
    },
    {
      "cell_type": "code",
      "source": [],
      "metadata": {
        "id": "CydVLq2IWb-4"
      },
      "execution_count": null,
      "outputs": []
    },
    {
      "cell_type": "markdown",
      "source": [
        "##### Péndulo amortigüado con fuerza externa"
      ],
      "metadata": {
        "id": "R09I8BFaWcbO"
      }
    },
    {
      "cell_type": "code",
      "source": [],
      "metadata": {
        "id": "r8LOSLdaWjmt"
      },
      "execution_count": null,
      "outputs": []
    },
    {
      "cell_type": "markdown",
      "source": [
        "##### Péndulo doble"
      ],
      "metadata": {
        "id": "EQeLw2sqWkCd"
      }
    },
    {
      "cell_type": "code",
      "source": [],
      "metadata": {
        "id": "7dTjVZz0WmUe"
      },
      "execution_count": null,
      "outputs": []
    },
    {
      "cell_type": "markdown",
      "source": [
        "#### Sección 6.3.3: mecánica celeste"
      ],
      "metadata": {
        "id": "WCefPoh6WsCP"
      }
    },
    {
      "cell_type": "markdown",
      "source": [
        "##### El problema de un cuerpo"
      ],
      "metadata": {
        "id": "gC_a6iyjWwpc"
      }
    },
    {
      "cell_type": "code",
      "source": [],
      "metadata": {
        "id": "HMvv6Ma0W3hs"
      },
      "execution_count": null,
      "outputs": []
    },
    {
      "cell_type": "markdown",
      "source": [
        "##### El problema de dos cuerpos"
      ],
      "metadata": {
        "id": "esvgq9H7W4FS"
      }
    },
    {
      "cell_type": "code",
      "source": [],
      "metadata": {
        "id": "TEqpiBWYXEqk"
      },
      "execution_count": null,
      "outputs": []
    },
    {
      "cell_type": "markdown",
      "source": [
        "##### El problema de tres cuerpos"
      ],
      "metadata": {
        "id": "t9ZWGm1gXGPR"
      }
    },
    {
      "cell_type": "code",
      "source": [],
      "metadata": {
        "id": "ycRA54I0XH4P"
      },
      "execution_count": null,
      "outputs": []
    },
    {
      "cell_type": "markdown",
      "source": [
        "# Métodos de Runge-Kutta"
      ],
      "metadata": {
        "id": "d-p1d-FQXKv9"
      }
    },
    {
      "cell_type": "markdown",
      "source": [
        "Los métodos de Runge-Kutta son una familia de solvers que incluyen al método de Euler (de orden 1) y al método del trapecio (orden 2). Existen otros métodos Runge-Kutta de orden 2 aparte del trapecio, como el método del punto medio."
      ],
      "metadata": {
        "id": "0Zz3oSVQXXlI"
      }
    },
    {
      "cell_type": "markdown",
      "source": [
        "# Método del punto medio (explícito)"
      ],
      "metadata": {
        "id": "fqQwQyjRX_Mj"
      }
    },
    {
      "cell_type": "markdown",
      "source": [
        "### Código "
      ],
      "metadata": {
        "id": "RxKulxrqYUii"
      }
    },
    {
      "cell_type": "code",
      "source": [
        "def punto_medio_ex(flujo, intervalo, valor_inicial, num_pasos):\n",
        "  inicio = intervalo[0]\n",
        "  fin = intervalo[-1]\n",
        "  h  = (fin - inicio)/num_pasos\n",
        "\n",
        "  n = [0]\n",
        "  t = [inicio]\n",
        "  w = [valor_inicial]\n",
        "  \n",
        "  for i in range(num_pasos):\n",
        "    n.append(i + 1)\n",
        "    t.append(t[i] + h)\n",
        "    w.append(paso_punto_medio(h, flujo, t[i], w[i]))\n",
        "\n",
        "  return n, t, w \n",
        "\n",
        "def paso_punto_medio(h, flujo, t, y):\n",
        "  return y + h*flujo(t+h/2, y+(h/2)*(flujo(t,y)))"
      ],
      "metadata": {
        "id": "2hhU6Dd6YXeN"
      },
      "execution_count": null,
      "outputs": []
    },
    {
      "cell_type": "markdown",
      "source": [
        "### Pruebas"
      ],
      "metadata": {
        "id": "W2jH9xP5YVSD"
      }
    },
    {
      "cell_type": "markdown",
      "source": [
        "#### Ejemplo 6.10"
      ],
      "metadata": {
        "id": "udnjGb44aakr"
      }
    },
    {
      "cell_type": "markdown",
      "source": [
        "\\begin{align}\n",
        "  \\begin{cases}\n",
        "    y' = ty + t^3 \\\\\n",
        "    y(0) = y_0 = 1 \\\\\n",
        "    t \\in  [0,1]\n",
        "  \\end{cases}\n",
        "\\end{align}"
      ],
      "metadata": {
        "id": "6jH391jTaeME"
      }
    },
    {
      "cell_type": "code",
      "source": [
        "f = lambda t,y: t*y + t**3 \n",
        "y_0 = 1"
      ],
      "metadata": {
        "id": "NhVayURiasQc"
      },
      "execution_count": null,
      "outputs": []
    },
    {
      "cell_type": "code",
      "source": [
        "# Solución exacta\n",
        "y = lambda t: 3*np.exp((t**2)/2) - t**2 - 2"
      ],
      "metadata": {
        "id": "XvI0r7DqatMW"
      },
      "execution_count": null,
      "outputs": []
    },
    {
      "cell_type": "code",
      "source": [
        "# Número de pasos n = 10, a y b denotan el inicio y fin del intervalo.\n",
        "num_pasos = 10\n",
        "a  = 0\n",
        "b  = 1\n",
        "\n",
        "h = (b - a) / num_pasos\n",
        "intervalo = np.arange(a, b + h, h)\n",
        "n, t, w = punto_medio_ex(flujo=f, intervalo=intervalo, valor_inicial=y_0, num_pasos=num_pasos)\n",
        "\n",
        "y_t = []\n",
        "for t_ in intervalo:\n",
        "  y_t.append(y(t_))\n",
        "\n",
        "tabla_resultados = pd.DataFrame(zip(n, t, w, y_t), columns=['paso','t_i','w_i', 'y_i'])\n",
        "errores_locales = abs(tabla_resultados['y_i'] - tabla_resultados['w_i'])\n",
        "tabla_resultados['e_i (error local)'] = errores_locales\n",
        "\n",
        "fig, ax = plt.subplots(figsize=(7,5))\n",
        "ax.plot(t, w,label='Punto medio explícito')\n",
        "ax.plot(t, y_t, label='Solución exacta')\n",
        "ax.set_xlabel('Tiempo')\n",
        "ax.set_title('Aproximación numérica al P.V.I.')\n",
        "ax.legend()\n",
        "\n",
        "tabla_resultados.style.hide_index()\n"
      ],
      "metadata": {
        "colab": {
          "base_uri": "https://localhost:8080/",
          "height": 727
        },
        "id": "KRm3R0_2awgs",
        "outputId": "c6e00eb9-18eb-467d-9199-811d400bb127"
      },
      "execution_count": null,
      "outputs": [
        {
          "output_type": "execute_result",
          "data": {
            "text/plain": [
              "<pandas.io.formats.style.Styler at 0x7fe5ee6bc410>"
            ],
            "text/html": [
              "<style type=\"text/css\">\n",
              "</style>\n",
              "<table id=\"T_0c8a7_\" class=\"dataframe\">\n",
              "  <thead>\n",
              "    <tr>\n",
              "      <th class=\"col_heading level0 col0\" >paso</th>\n",
              "      <th class=\"col_heading level0 col1\" >t_i</th>\n",
              "      <th class=\"col_heading level0 col2\" >w_i</th>\n",
              "      <th class=\"col_heading level0 col3\" >y_i</th>\n",
              "      <th class=\"col_heading level0 col4\" >e_i (error local)</th>\n",
              "    </tr>\n",
              "  </thead>\n",
              "  <tbody>\n",
              "    <tr>\n",
              "      <td id=\"T_0c8a7_row0_col0\" class=\"data row0 col0\" >0</td>\n",
              "      <td id=\"T_0c8a7_row0_col1\" class=\"data row0 col1\" >0.000000</td>\n",
              "      <td id=\"T_0c8a7_row0_col2\" class=\"data row0 col2\" >1.000000</td>\n",
              "      <td id=\"T_0c8a7_row0_col3\" class=\"data row0 col3\" >1.000000</td>\n",
              "      <td id=\"T_0c8a7_row0_col4\" class=\"data row0 col4\" >0.000000</td>\n",
              "    </tr>\n",
              "    <tr>\n",
              "      <td id=\"T_0c8a7_row1_col0\" class=\"data row1 col0\" >1</td>\n",
              "      <td id=\"T_0c8a7_row1_col1\" class=\"data row1 col1\" >0.100000</td>\n",
              "      <td id=\"T_0c8a7_row1_col2\" class=\"data row1 col2\" >1.005013</td>\n",
              "      <td id=\"T_0c8a7_row1_col3\" class=\"data row1 col3\" >1.005038</td>\n",
              "      <td id=\"T_0c8a7_row1_col4\" class=\"data row1 col4\" >0.000025</td>\n",
              "    </tr>\n",
              "    <tr>\n",
              "      <td id=\"T_0c8a7_row2_col0\" class=\"data row2 col0\" >2</td>\n",
              "      <td id=\"T_0c8a7_row2_col1\" class=\"data row2 col1\" >0.200000</td>\n",
              "      <td id=\"T_0c8a7_row2_col2\" class=\"data row2 col2\" >1.020501</td>\n",
              "      <td id=\"T_0c8a7_row2_col3\" class=\"data row2 col3\" >1.020604</td>\n",
              "      <td id=\"T_0c8a7_row2_col4\" class=\"data row2 col4\" >0.000103</td>\n",
              "    </tr>\n",
              "    <tr>\n",
              "      <td id=\"T_0c8a7_row3_col0\" class=\"data row3 col0\" >3</td>\n",
              "      <td id=\"T_0c8a7_row3_col1\" class=\"data row3 col1\" >0.300000</td>\n",
              "      <td id=\"T_0c8a7_row3_col2\" class=\"data row3 col2\" >1.047841</td>\n",
              "      <td id=\"T_0c8a7_row3_col3\" class=\"data row3 col3\" >1.048084</td>\n",
              "      <td id=\"T_0c8a7_row3_col4\" class=\"data row3 col4\" >0.000242</td>\n",
              "    </tr>\n",
              "    <tr>\n",
              "      <td id=\"T_0c8a7_row4_col0\" class=\"data row4 col0\" >4</td>\n",
              "      <td id=\"T_0c8a7_row4_col1\" class=\"data row4 col1\" >0.400000</td>\n",
              "      <td id=\"T_0c8a7_row4_col2\" class=\"data row4 col2\" >1.089401</td>\n",
              "      <td id=\"T_0c8a7_row4_col3\" class=\"data row4 col3\" >1.089861</td>\n",
              "      <td id=\"T_0c8a7_row4_col4\" class=\"data row4 col4\" >0.000460</td>\n",
              "    </tr>\n",
              "    <tr>\n",
              "      <td id=\"T_0c8a7_row5_col0\" class=\"data row5 col0\" >5</td>\n",
              "      <td id=\"T_0c8a7_row5_col1\" class=\"data row5 col1\" >0.500000</td>\n",
              "      <td id=\"T_0c8a7_row5_col2\" class=\"data row5 col2\" >1.148661</td>\n",
              "      <td id=\"T_0c8a7_row5_col3\" class=\"data row5 col3\" >1.149445</td>\n",
              "      <td id=\"T_0c8a7_row5_col4\" class=\"data row5 col4\" >0.000785</td>\n",
              "    </tr>\n",
              "    <tr>\n",
              "      <td id=\"T_0c8a7_row6_col0\" class=\"data row6 col0\" >6</td>\n",
              "      <td id=\"T_0c8a7_row6_col1\" class=\"data row6 col1\" >0.600000</td>\n",
              "      <td id=\"T_0c8a7_row6_col2\" class=\"data row6 col2\" >1.230398</td>\n",
              "      <td id=\"T_0c8a7_row6_col3\" class=\"data row6 col3\" >1.231652</td>\n",
              "      <td id=\"T_0c8a7_row6_col4\" class=\"data row6 col4\" >0.001254</td>\n",
              "    </tr>\n",
              "    <tr>\n",
              "      <td id=\"T_0c8a7_row7_col0\" class=\"data row7 col0\" >7</td>\n",
              "      <td id=\"T_0c8a7_row7_col1\" class=\"data row7 col1\" >0.700000</td>\n",
              "      <td id=\"T_0c8a7_row7_col2\" class=\"data row7 col2\" >1.340937</td>\n",
              "      <td id=\"T_0c8a7_row7_col3\" class=\"data row7 col3\" >1.342864</td>\n",
              "      <td id=\"T_0c8a7_row7_col4\" class=\"data row7 col4\" >0.001927</td>\n",
              "    </tr>\n",
              "    <tr>\n",
              "      <td id=\"T_0c8a7_row8_col0\" class=\"data row8 col0\" >8</td>\n",
              "      <td id=\"T_0c8a7_row8_col1\" class=\"data row8 col1\" >0.800000</td>\n",
              "      <td id=\"T_0c8a7_row8_col2\" class=\"data row8 col2\" >1.488501</td>\n",
              "      <td id=\"T_0c8a7_row8_col3\" class=\"data row8 col3\" >1.491383</td>\n",
              "      <td id=\"T_0c8a7_row8_col4\" class=\"data row8 col4\" >0.002882</td>\n",
              "    </tr>\n",
              "    <tr>\n",
              "      <td id=\"T_0c8a7_row9_col0\" class=\"data row9 col0\" >9</td>\n",
              "      <td id=\"T_0c8a7_row9_col1\" class=\"data row9 col1\" >0.900000</td>\n",
              "      <td id=\"T_0c8a7_row9_col2\" class=\"data row9 col2\" >1.683673</td>\n",
              "      <td id=\"T_0c8a7_row9_col3\" class=\"data row9 col3\" >1.687908</td>\n",
              "      <td id=\"T_0c8a7_row9_col4\" class=\"data row9 col4\" >0.004234</td>\n",
              "    </tr>\n",
              "    <tr>\n",
              "      <td id=\"T_0c8a7_row10_col0\" class=\"data row10 col0\" >10</td>\n",
              "      <td id=\"T_0c8a7_row10_col1\" class=\"data row10 col1\" >1.000000</td>\n",
              "      <td id=\"T_0c8a7_row10_col2\" class=\"data row10 col2\" >1.940020</td>\n",
              "      <td id=\"T_0c8a7_row10_col3\" class=\"data row10 col3\" >1.946164</td>\n",
              "      <td id=\"T_0c8a7_row10_col4\" class=\"data row10 col4\" >0.006143</td>\n",
              "    </tr>\n",
              "  </tbody>\n",
              "</table>\n"
            ]
          },
          "metadata": {},
          "execution_count": 28
        },
        {
          "output_type": "display_data",
          "data": {
            "text/plain": [
              "<Figure size 504x360 with 1 Axes>"
            ],
            "image/png": "[encoded data removed]"
          },
          "metadata": {
            "needs_background": "light"
          }
        }
      ]
    },
    {
      "cell_type": "markdown",
      "source": [
        "#### Ejemplo 6.11"
      ],
      "metadata": {
        "id": "FFjJWIUPZw29"
      }
    },
    {
      "cell_type": "markdown",
      "source": [
        "\\begin{align}\n",
        "  \\begin{cases}\n",
        "    y' = -4t^3y^2 \\\\\n",
        "    y(-10) = y_0 = 1/10001 \\\\\n",
        "    t \\in  [-10,0]\n",
        "  \\end{cases}\n",
        "\\end{align}"
      ],
      "metadata": {
        "id": "QfClZO4JZygA"
      }
    },
    {
      "cell_type": "code",
      "source": [
        "f = lambda t,y: -4 * t**3 * y**2 \n",
        "y_0 = 1/10001\n",
        "a = -10\n",
        "b = 0"
      ],
      "metadata": {
        "id": "KOj97RJkZ43_"
      },
      "execution_count": null,
      "outputs": []
    },
    {
      "cell_type": "code",
      "source": [
        "# Solución exacta a la EDO\n",
        "y = lambda t: 1 / (t**4 + 1)"
      ],
      "metadata": {
        "id": "wCXreg1NZ52a"
      },
      "execution_count": null,
      "outputs": []
    },
    {
      "cell_type": "code",
      "source": [
        "%%time\n",
        "pasos = [500, 1000, 10000]\n",
        "\n",
        "fig1, ax1 = plt.subplots(figsize=(7,5))\n",
        "ax1.set_title('Comparación de varias aproximaciones usando el método del punto medio explícito')\n",
        "for n_ in pasos:\n",
        "  h = (b - a) / n_\n",
        "  intervalo = np.arange(a, b + h, h)\n",
        "  n, t, w = punto_medio_ex(flujo=f, intervalo=intervalo, valor_inicial=y_0, num_pasos=n_)\n",
        "\n",
        "  ax1.plot(t, w, label=f'Método del punto medio, h={h}')\n",
        "  ax1.set_xlabel('Tiempo')\n",
        "  ax1.set_ylabel('y')\n",
        "\n",
        "y_t = []\n",
        "t = []\n",
        "for t_ in np.arange(-10,0.1,.1):\n",
        "  y_t.append(y(t_))\n",
        "  t.append(t_)\n",
        "ax1.plot(t, y_t, label=\"Solución exacta\")\n",
        "\n",
        "ax1.legend() \n"
      ],
      "metadata": {
        "colab": {
          "base_uri": "https://localhost:8080/",
          "height": 402
        },
        "id": "HwMIhDEKZ-oE",
        "outputId": "b378edbd-15bd-476a-a20a-3264dbd1d2bf"
      },
      "execution_count": null,
      "outputs": [
        {
          "output_type": "stream",
          "name": "stdout",
          "text": [
            "CPU times: user 63.9 ms, sys: 852 µs, total: 64.7 ms\n",
            "Wall time: 67.5 ms\n"
          ]
        },
        {
          "output_type": "execute_result",
          "data": {
            "text/plain": [
              "<matplotlib.legend.Legend at 0x7fe5ed2efb10>"
            ]
          },
          "metadata": {},
          "execution_count": 31
        },
        {
          "output_type": "display_data",
          "data": {
            "text/plain": [
              "<Figure size 504x360 with 1 Axes>"
            ],
            "image/png": "[encoded data removed]"
          },
          "metadata": {
            "needs_background": "light"
          }
        }
      ]
    },
    {
      "cell_type": "markdown",
      "source": [
        "# Método de Runge-Kutta de orden 4"
      ],
      "metadata": {
        "id": "QiQW4hmJbmKx"
      }
    },
    {
      "cell_type": "markdown",
      "source": [
        "### Código"
      ],
      "metadata": {
        "id": "o-G5myXhbuj6"
      }
    },
    {
      "cell_type": "code",
      "source": [
        "def RK4(flujo, intervalo, valor_inicial, num_pasos):\n",
        "  inicio = intervalo[0]\n",
        "  fin = intervalo[-1]\n",
        "  h  = (fin - inicio)/num_pasos\n",
        "\n",
        "  n = [0]\n",
        "  t = [inicio]\n",
        "  w = [valor_inicial]\n",
        "  \n",
        "  for i in range(num_pasos):\n",
        "    n.append(i + 1)\n",
        "    t.append(t[i] + h)\n",
        "    w.append(paso_RK4(h, flujo, t[i], w[i]))\n",
        "\n",
        "  return n, t, w \n",
        "\n",
        "def paso_RK4(h, flujo, t, y):\n",
        "  s1 = flujo(t, y)\n",
        "  s2 = flujo(t + h/2, y + (h/2)*s1)\n",
        "  s3 = flujo(t + h/2, y + (h/2)*s2)\n",
        "  s4 = flujo(t + h, y + h*s3)\n",
        "  return y + (h/6)*(s1 + 2*s2 + 2*s3 + s4)"
      ],
      "metadata": {
        "id": "1xfWJwYwbv_-"
      },
      "execution_count": null,
      "outputs": []
    },
    {
      "cell_type": "markdown",
      "source": [
        "### Pruebas"
      ],
      "metadata": {
        "id": "o4Snt8arbwPn"
      }
    },
    {
      "cell_type": "markdown",
      "source": [
        "#### Ejemplo 6.18"
      ],
      "metadata": {
        "id": "HVemsvMtfXmN"
      }
    },
    {
      "cell_type": "markdown",
      "source": [
        "\\begin{align}\n",
        "  \\begin{cases}\n",
        "    y' = ty + t^3 \\\\\n",
        "    y(0) = 1 \\\\\n",
        "    t \\in  [0,1]\n",
        "  \\end{cases}\n",
        "\\end{align}"
      ],
      "metadata": {
        "id": "Ifd7dWDTfbJU"
      }
    },
    {
      "cell_type": "code",
      "source": [
        "f = lambda t,y: t*y + t**3 \n",
        "y_0 = 1\n",
        "a = 0\n",
        "b = 1"
      ],
      "metadata": {
        "id": "2LPpcl7IgKZt"
      },
      "execution_count": null,
      "outputs": []
    },
    {
      "cell_type": "code",
      "source": [
        "# Solución exacta\n",
        "y = lambda t: 3*np.exp((t**2)/2) - t**2 - 2"
      ],
      "metadata": {
        "id": "5PDQ1mQZgPIt"
      },
      "execution_count": null,
      "outputs": []
    },
    {
      "cell_type": "code",
      "source": [
        "resultado_exacto = y(1)\n",
        "resultados_cada_paso = []\n",
        "h_cada_paso = []\n",
        "pasos = [5, 10, 20, 40, 80, 160, 320, 640]\n",
        "\n",
        "for n_ in pasos:\n",
        "  h = (b - a) / n_\n",
        "  intervalo = np.arange(a, b + h, h)\n",
        "  n, t, w = RK4(flujo=f, intervalo=intervalo, valor_inicial=y_0, num_pasos=n_)\n",
        "  resultados_cada_paso.append(w[-1])\n",
        "  h_cada_paso.append(h)\n",
        "\n",
        "tabla_resultados = pd.DataFrame(zip(pasos, h_cada_paso, resultados_cada_paso,), \n",
        "                                columns=['pasos n', 'tamaño del paso h','w(1)'])\n",
        "tabla_resultados['y(1)'] = resultado_exacto\n",
        "errores_globales = abs(tabla_resultados['y(1)'] - tabla_resultados['w(1)'])\n",
        "tabla_resultados['error global'] = errores_globales\n",
        "\n",
        "fig1, ax1 = plt.subplots(figsize=(7,5))\n",
        "ax1.plot(h_cada_paso, errores_globales, 'o')\n",
        "ax1.set_xlabel('tamaño del paso h')\n",
        "ax1.set_ylabel('error global')\n",
        "ax1.set_title('Error global en función de h evaluado en t = 1')\n",
        "\n",
        "fig2, ax2 = plt.subplots(figsize=(7,5))\n",
        "ax2.plot(h_cada_paso, errores_globales, 'o')\n",
        "ax2.set_xlabel('tamaño del paso h')\n",
        "ax2.set_ylabel('error global')\n",
        "ax2.set_xscale('log')\n",
        "ax2.set_yscale('log')\n",
        "ax2.set_title('Error global en función de h evaluado en t = 1 (escala log-log)')\n",
        "\n",
        "tabla_resultados.style.hide_index()\n",
        "#print(tabla_resultados['error global'])"
      ],
      "metadata": {
        "id": "OjI595aPbxln",
        "colab": {
          "base_uri": "https://localhost:8080/",
          "height": 969
        },
        "outputId": "61b10d03-c91d-41f6-9a04-d9c8cb1b4d45"
      },
      "execution_count": null,
      "outputs": [
        {
          "output_type": "execute_result",
          "data": {
            "text/plain": [
              "<pandas.io.formats.style.Styler at 0x7fe5eb745710>"
            ],
            "text/html": [
              "<style type=\"text/css\">\n",
              "</style>\n",
              "<table id=\"T_a0ec8_\" class=\"dataframe\">\n",
              "  <thead>\n",
              "    <tr>\n",
              "      <th class=\"col_heading level0 col0\" >pasos n</th>\n",
              "      <th class=\"col_heading level0 col1\" >tamaño del paso h</th>\n",
              "      <th class=\"col_heading level0 col2\" >w(1)</th>\n",
              "      <th class=\"col_heading level0 col3\" >y(1)</th>\n",
              "      <th class=\"col_heading level0 col4\" >error global</th>\n",
              "    </tr>\n",
              "  </thead>\n",
              "  <tbody>\n",
              "    <tr>\n",
              "      <td id=\"T_a0ec8_row0_col0\" class=\"data row0 col0\" >5</td>\n",
              "      <td id=\"T_a0ec8_row0_col1\" class=\"data row0 col1\" >0.200000</td>\n",
              "      <td id=\"T_a0ec8_row0_col2\" class=\"data row0 col2\" >1.946140</td>\n",
              "      <td id=\"T_a0ec8_row0_col3\" class=\"data row0 col3\" >1.946164</td>\n",
              "      <td id=\"T_a0ec8_row0_col4\" class=\"data row0 col4\" >0.000024</td>\n",
              "    </tr>\n",
              "    <tr>\n",
              "      <td id=\"T_a0ec8_row1_col0\" class=\"data row1 col0\" >10</td>\n",
              "      <td id=\"T_a0ec8_row1_col1\" class=\"data row1 col1\" >0.100000</td>\n",
              "      <td id=\"T_a0ec8_row1_col2\" class=\"data row1 col2\" >1.946162</td>\n",
              "      <td id=\"T_a0ec8_row1_col3\" class=\"data row1 col3\" >1.946164</td>\n",
              "      <td id=\"T_a0ec8_row1_col4\" class=\"data row1 col4\" >0.000001</td>\n",
              "    </tr>\n",
              "    <tr>\n",
              "      <td id=\"T_a0ec8_row2_col0\" class=\"data row2 col0\" >20</td>\n",
              "      <td id=\"T_a0ec8_row2_col1\" class=\"data row2 col1\" >0.050000</td>\n",
              "      <td id=\"T_a0ec8_row2_col2\" class=\"data row2 col2\" >1.946164</td>\n",
              "      <td id=\"T_a0ec8_row2_col3\" class=\"data row2 col3\" >1.946164</td>\n",
              "      <td id=\"T_a0ec8_row2_col4\" class=\"data row2 col4\" >0.000000</td>\n",
              "    </tr>\n",
              "    <tr>\n",
              "      <td id=\"T_a0ec8_row3_col0\" class=\"data row3 col0\" >40</td>\n",
              "      <td id=\"T_a0ec8_row3_col1\" class=\"data row3 col1\" >0.025000</td>\n",
              "      <td id=\"T_a0ec8_row3_col2\" class=\"data row3 col2\" >1.946164</td>\n",
              "      <td id=\"T_a0ec8_row3_col3\" class=\"data row3 col3\" >1.946164</td>\n",
              "      <td id=\"T_a0ec8_row3_col4\" class=\"data row3 col4\" >0.000000</td>\n",
              "    </tr>\n",
              "    <tr>\n",
              "      <td id=\"T_a0ec8_row4_col0\" class=\"data row4 col0\" >80</td>\n",
              "      <td id=\"T_a0ec8_row4_col1\" class=\"data row4 col1\" >0.012500</td>\n",
              "      <td id=\"T_a0ec8_row4_col2\" class=\"data row4 col2\" >1.946164</td>\n",
              "      <td id=\"T_a0ec8_row4_col3\" class=\"data row4 col3\" >1.946164</td>\n",
              "      <td id=\"T_a0ec8_row4_col4\" class=\"data row4 col4\" >0.000000</td>\n",
              "    </tr>\n",
              "    <tr>\n",
              "      <td id=\"T_a0ec8_row5_col0\" class=\"data row5 col0\" >160</td>\n",
              "      <td id=\"T_a0ec8_row5_col1\" class=\"data row5 col1\" >0.006250</td>\n",
              "      <td id=\"T_a0ec8_row5_col2\" class=\"data row5 col2\" >1.946164</td>\n",
              "      <td id=\"T_a0ec8_row5_col3\" class=\"data row5 col3\" >1.946164</td>\n",
              "      <td id=\"T_a0ec8_row5_col4\" class=\"data row5 col4\" >0.000000</td>\n",
              "    </tr>\n",
              "    <tr>\n",
              "      <td id=\"T_a0ec8_row6_col0\" class=\"data row6 col0\" >320</td>\n",
              "      <td id=\"T_a0ec8_row6_col1\" class=\"data row6 col1\" >0.003125</td>\n",
              "      <td id=\"T_a0ec8_row6_col2\" class=\"data row6 col2\" >1.946164</td>\n",
              "      <td id=\"T_a0ec8_row6_col3\" class=\"data row6 col3\" >1.946164</td>\n",
              "      <td id=\"T_a0ec8_row6_col4\" class=\"data row6 col4\" >0.000000</td>\n",
              "    </tr>\n",
              "    <tr>\n",
              "      <td id=\"T_a0ec8_row7_col0\" class=\"data row7 col0\" >640</td>\n",
              "      <td id=\"T_a0ec8_row7_col1\" class=\"data row7 col1\" >0.001563</td>\n",
              "      <td id=\"T_a0ec8_row7_col2\" class=\"data row7 col2\" >1.946164</td>\n",
              "      <td id=\"T_a0ec8_row7_col3\" class=\"data row7 col3\" >1.946164</td>\n",
              "      <td id=\"T_a0ec8_row7_col4\" class=\"data row7 col4\" >0.000000</td>\n",
              "    </tr>\n",
              "  </tbody>\n",
              "</table>\n"
            ]
          },
          "metadata": {},
          "execution_count": 55
        },
        {
          "output_type": "display_data",
          "data": {
            "text/plain": [
              "<Figure size 504x360 with 1 Axes>"
            ],
            "image/png": "[encoded data removed]"
          },
          "metadata": {
            "needs_background": "light"
          }
        },
        {
          "output_type": "display_data",
          "data": {
            "text/plain": [
              "<Figure size 504x360 with 1 Axes>"
            ],
            "image/png": "[encoded data removed]"
          },
          "metadata": {
            "needs_background": "light"
          }
        }
      ]
    },
    {
      "cell_type": "markdown",
      "source": [
        "# Métodos de paso variable"
      ],
      "metadata": {
        "id": "YGWuP2Nxia_o"
      }
    },
    {
      "cell_type": "markdown",
      "source": [
        "# Par Runge-Kutta 2/3"
      ],
      "metadata": {
        "id": "kWIHUbzQjCgb"
      }
    },
    {
      "cell_type": "markdown",
      "source": [
        "### Código"
      ],
      "metadata": {
        "id": "OrXPr-JEjUTk"
      }
    },
    {
      "cell_type": "code",
      "source": [
        "# El método de trapecio explícito se usará como RK2\n",
        "\n",
        "def RK3(flujo, intervalo, valor_inicial, num_pasos):\n",
        "  inicio = intervalo[0]\n",
        "  fin = intervalo[-1]\n",
        "  h  = (fin - inicio)/num_pasos\n",
        "\n",
        "  n = [0]\n",
        "  t = [inicio]\n",
        "  w = [valor_inicial]\n",
        "  \n",
        "  for i in range(num_pasos):\n",
        "    n.append(i + 1)\n",
        "    t.append(t[i] + h)\n",
        "    w.append(paso_RK3(h, flujo, t[i], w[i]))\n",
        "\n",
        "  return n, t, w \n",
        "\n",
        "def paso_RK3(h, flujo, t, y):\n",
        "  s1 = flujo(t, y)\n",
        "  s2 = flujo(t + h, y + h*s1)\n",
        "  s3 = flujo(t + h/2, y + (h/2)*(s1+s2)/2)\n",
        "  return y + h*(s1 + 4*s3 + s2)/6\n",
        "\n",
        "def RK23():\n",
        "  return\n"
      ],
      "metadata": {
        "id": "jAqIbUzUjYF8"
      },
      "execution_count": null,
      "outputs": []
    },
    {
      "cell_type": "markdown",
      "source": [
        "# Método de diferencias finitas"
      ],
      "metadata": {
        "id": "eP1rlcuXe-dh"
      }
    },
    {
      "cell_type": "markdown",
      "source": [
        "#### Ejercicio 6, Práctica 2"
      ],
      "metadata": {
        "id": "gR2k91B2fNs4"
      }
    },
    {
      "cell_type": "markdown",
      "source": [
        "Queremos resolver el P.V.F.\n",
        "\n",
        "\\begin{align}\n",
        "  \\begin{cases}\n",
        "    y'' = 4y'(2-y) \\\\\n",
        "    y(0) = 2 \\\\\n",
        "    y(\\frac{1}{2}) = 2 - \\frac{\\pi}{4}\n",
        "  \\end{cases}\n",
        "\\end{align}"
      ],
      "metadata": {
        "id": "NvKiXG8RuEjx"
      }
    },
    {
      "cell_type": "code",
      "source": [
        "t0 = 0\n",
        "w0 = 2\n",
        "\n",
        "tN = 1/2\n",
        "wN = 2 - np.pi/4\n",
        "\n",
        "N = 10\n",
        "h = (tN  - t0)/N\n",
        "t = np.linspace(t0, tN, N + 1)"
      ],
      "metadata": {
        "id": "qikKaK39fCzA"
      },
      "execution_count": null,
      "outputs": []
    },
    {
      "cell_type": "code",
      "source": [
        "# Solución exacta\n",
        "y = lambda t: 2 - np.pi/4*np.tan(np.pi*t/2)"
      ],
      "metadata": {
        "id": "Onj7gplc0fnZ"
      },
      "execution_count": null,
      "outputs": []
    },
    {
      "cell_type": "code",
      "source": [
        "# Jacobiana JG\n",
        "A = np.diag(2*np.ones(N-1)) - np.diag(np.ones(N-2), 1) - np.diag(np.ones(N-2), -1)\n",
        "\n",
        "# Vector W\n",
        "W = np.linspace(w0, wN, N + 1)\n",
        "\n",
        "# Aplicamos Newton\n",
        "w = np.zeros(N-1)\n",
        "for k in range(1):\n",
        "  # índices inclusivos\n",
        "  mG = W[2:N+1] - 2*W[1:N] + W[0:N-1] - 2*h*(W[2:N+1] - W[0:N-1])*(2 - W[1:N])\n",
        "  # índices exclusivos\n",
        "  Bn = np.diag(W[0:N-1] - W[2:N+1]) + np.diag(2 - W[1:N-1], 1) + np.diag(W[2:N] - 2, -1)\n",
        "  w = np.linalg.solve(A + 2*h*Bn, mG) + W[1:N]\n",
        "  W[1:N] = w"
      ],
      "metadata": {
        "id": "DWsf4uWWuluh"
      },
      "execution_count": null,
      "outputs": []
    },
    {
      "cell_type": "code",
      "source": [
        "plt.plot(t, y(t))\n",
        "plt.plot(t, W, 'o')"
      ],
      "metadata": {
        "colab": {
          "base_uri": "https://localhost:8080/",
          "height": 282
        },
        "id": "w4MKR1pY0tzw",
        "outputId": "731fb556-1aa6-4530-b3dd-93077fd31b6b"
      },
      "execution_count": null,
      "outputs": [
        {
          "output_type": "execute_result",
          "data": {
            "text/plain": [
              "[<matplotlib.lines.Line2D at 0x7fe5ece99c10>]"
            ]
          },
          "metadata": {},
          "execution_count": 36
        },
        {
          "output_type": "display_data",
          "data": {
            "text/plain": [
              "<Figure size 432x288 with 1 Axes>"
            ],
            "image/png": "[encoded data removed]"
          },
          "metadata": {
            "needs_background": "light"
          }
        }
      ]
    }
  ]
}